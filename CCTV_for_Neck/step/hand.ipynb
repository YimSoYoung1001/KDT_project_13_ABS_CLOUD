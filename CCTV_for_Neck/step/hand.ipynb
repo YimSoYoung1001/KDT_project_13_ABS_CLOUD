{
 "cells": [
  {
   "cell_type": "code",
   "execution_count": 1,
   "metadata": {},
   "outputs": [],
   "source": [
    "import cv2\n",
    "import mediapipe as mp"
   ]
  },
  {
   "cell_type": "code",
   "execution_count": 2,
   "metadata": {},
   "outputs": [],
   "source": [
    "mp_drawing = mp.solutions.drawing_utils\n",
    "mp_hands = mp.solutions.hands"
   ]
  },
  {
   "cell_type": "code",
   "execution_count": 3,
   "metadata": {},
   "outputs": [],
   "source": [
    "cap = cv2.VideoCapture(0)"
   ]
  },
  {
   "cell_type": "code",
   "execution_count": 4,
   "metadata": {},
   "outputs": [],
   "source": [
    "with mp_hands.Hands(\n",
    "    max_num_hands = 1,\n",
    "    min_detection_confidence = 0.5,\n",
    "    min_tracking_confidence = 0.5) as hands:\n",
    "    \n",
    "    while cap.isOpened():\n",
    "        success, image = cap.read()\n",
    "        if not success:\n",
    "            continue\n",
    "        image = cv2.cvtColor(cv2.flip(image, 1),\n",
    "                             cv2.COLOR_BGR2RGB)\n",
    "\n",
    "        results = hands.process(image)\n",
    "\n",
    "        image = cv2.cvtColor(image, cv2.COLOR_BGR2RGB)\n",
    "\n",
    "        if results.multi_hand_landmarks:\n",
    "            for hand_landmarks in results.multi_hand_landmarks:\n",
    "                finger1 = int(hand_landmarks.landmark[4].x * 100)\n",
    "                finger2 = int(hand_landmarks.landmark[8].x * 100)\n",
    "                dist = abs(finger1 - finger2)\n",
    "                cv2.putText(\n",
    "                    image, text =\"f1=%d f2=%d dist=%d\"%(finger1,finger2,dist),\n",
    "                    org = (10,30),\n",
    "                    fontFace = cv2.FONT_HERSHEY_SIMPLEX,\n",
    "                    fontScale = 1,\n",
    "                    color = 255,\n",
    "                    thickness = 3\n",
    "                )\n",
    "                mp_drawing.draw_landmarks(\n",
    "                    image, hand_landmarks, mp_hands.HAND_CONNECTIONS)\n",
    "        \n",
    "        cv2.imshow('image', image)\n",
    "        if cv2.waitKey(1) == ord('q'): break\n",
    "\n",
    "\n",
    "cap.release()"
   ]
  },
  {
   "cell_type": "code",
   "execution_count": null,
   "metadata": {},
   "outputs": [],
   "source": []
  }
 ],
 "metadata": {
  "kernelspec": {
   "display_name": "TORCH_NLP38",
   "language": "python",
   "name": "python3"
  },
  "language_info": {
   "codemirror_mode": {
    "name": "ipython",
    "version": 3
   },
   "file_extension": ".py",
   "mimetype": "text/x-python",
   "name": "python",
   "nbconvert_exporter": "python",
   "pygments_lexer": "ipython3",
   "version": "3.8.19"
  }
 },
 "nbformat": 4,
 "nbformat_minor": 2
}
